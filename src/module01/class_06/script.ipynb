# %%
import pandas as pd
import seaborn as sns
import matplotlib.pyplot as plt
# %%
movies = pd.read_csv('../../../database/movies.csv')
grades = pd.read_csv('../../../database/ratings.csv')
# %%
movies.head(2)
# %%
grades.head()
# %%
grades_to_toy_story = grades.query('movieId == 1')
grades_to_jumanji = grades.query('movieId == 2')
# %%
print('Nota média do Toy Story: %.2f' % grades_to_toy_story.rating.mean())
# %%
print('Nota média do Jumanji: %.2f' % grades_to_jumanji.rating.mean())
# %%
sns.boxplot(x = 'movieId', y = 'rating', data = grades.query('movieId in [1,2]'))
# %%

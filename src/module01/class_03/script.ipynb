# %%
import pandas as pd
import seaborn as sns
# %%
tmdb = pd.read_csv('../../../database/tmdb_5000_movies.csv')
tmdb.head()
# %%
print('Lesson 03 - Explaining categorical variables, example original_language')
print('Categórica Nominal')
tmdb.original_language.unique()
# %%
print('Example 1 degree < 2 degree < 3 degree is Categórica Ordinal')
print('Example Budget => orçamento => Quantitativa Continua')

# %%

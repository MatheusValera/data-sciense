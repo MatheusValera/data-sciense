import pandas as pd
import seaborn as sns
import matplotlib.pyplot as plt

tmdb = pd.read_csv('../../../database/tmdb_5000_movies.csv')

count_language = tmdb.original_language.value_counts().to_frame().reset_index()
count_language.columns = ['original_language', 'total']
count_language.head()

sns.barplot(x = 'original_language', y ='total', data = count_language)

sns.catplot(x = 'original_language', kind = 'count', data = tmdb)

print('Pie graph dont is recommended')
plt.pie(count_language['total'],labels = count_language['original_language'])

total_language = tmdb.original_language.value_counts()
total_general = total_language.sum()
total_en = total_language.loc['en']
total_remaining = total_general - total_en
print(total_en, total_remaining)

data = {
  'lingua' : ['english', 'others'],
  'total': [total_en, total_remaining],
}
data = pd.DataFrame(data)

sns.barplot(data, x = 'lingua', y = 'total')

movies_without_english = tmdb.query('original_language != "en"')
sns.catplot(x = 'original_language', kind = 'count', data = movies_without_english)

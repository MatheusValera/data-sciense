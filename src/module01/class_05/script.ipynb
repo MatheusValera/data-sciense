# %%
import pandas as pd
import seaborn as sns
import matplotlib.pyplot as plt
# %%
tmdb = pd.read_csv('../../../database/tmdb_5000_movies.csv')
# %%
movies_without_english = tmdb.query('original_language != "en"')
# %%
# not the best way to plot information
sns.catplot(
  x = 'original_language',
  kind = 'count',
  data = movies_without_english
)
# %%
# improving the visualization of information
sns.catplot(
  x = 'original_language',
  kind = 'count',
  data = movies_without_english,
  aspect = 2,
  palette = 'GnBu_d',
  order = movies_without_english.original_language.value_counts().index
)
# %%
